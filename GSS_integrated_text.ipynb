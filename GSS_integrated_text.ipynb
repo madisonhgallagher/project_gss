{
  "nbformat": 4,
  "nbformat_minor": 0,
  "metadata": {
    "colab": {
      "provenance": [],
      "include_colab_link": true
    },
    "kernelspec": {
      "name": "python3",
      "display_name": "Python 3"
    },
    "language_info": {
      "name": "python"
    }
  },
  "cells": [
    {
      "cell_type": "markdown",
      "metadata": {
        "id": "view-in-github",
        "colab_type": "text"
      },
      "source": [
        "<a href=\"https://colab.research.google.com/github/madisonhgallagher/project_gss/blob/main/GSS_integrated_text.ipynb\" target=\"_parent\"><img src=\"https://colab.research.google.com/assets/colab-badge.svg\" alt=\"Open In Colab\"/></a>"
      ]
    },
    {
      "cell_type": "markdown",
      "source": [
        "# DS 3001 Project #1\n",
        "\n",
        "Madison Gallagher, Isabella Wright, Megan Vander Wiele\n",
        "\n",
        "Due Date: 3/11/2024"
      ],
      "metadata": {
        "id": "nRPvezforHrA"
      }
    },
    {
      "cell_type": "markdown",
      "source": [
        "##Summary\n",
        "\n",
        "The General Social Survey, since 1972, has asked American’s various questions about themselves and their personal beliefs. The survey, along with an extensive list of more detailed questions, asks about participants' age, level of education, religion, and if they are opposed or in favor of capital punishment for murder. From this data, we wanted to find if religion, age, or education correlate with people’s opinions on capital punishment. To answer this question, the data from the General Social Survey first needed to be “cleaned,” meaning that any missing values or nonsensical answers needed to be recategorized or disposed of. Data was also tidied by binning age groups as well as re-categorizing religions into broader groups to allow for a more clear analysis. Initial exploration was done by cross tabbing different variables to determine any clear correlations and creating count plots to see clear distributions within variables. Kernel density estimate (KDE) plots were made for further analysis of correlation between age, education, and religion in respect to capital punishment opinions. KDE plots are useful when visualizing the estimated distribution of observations within a variable. It is extremely useful for answering our questions since it can group each variable, such as education, age, and religion by those who favor or oppose the death penalty. This allows for a “switch” in majority opinion to be observed from the probability of one opinion crossing the other. From initial cross tabbing, it was seen all religions had a majority favoring opinion towards the death penalty. It was also seen that Christians, non-religious people, and Jewish people have the highest percentage of favoring opinion towards capital punishment. The KDE plot comparing opinion of capital punishment to age revealed that people between 20 and 40 have the strongest presence towards capital punishment, and that preference decreased with age. A KDE plot of opinion over level of education also revealed that highly educated people tend to not favor the death penalty. KDE plots of age and education split up by different religions showed that eastern religions like hinduism has higher opposition rates at older ages and higher levels of education compared to religions which fall under the general umbrella of"
      ],
      "metadata": {
        "id": "YBJsBHffrX6v"
      }
    },
    {
      "cell_type": "markdown",
      "source": [
        "# Data\n",
        "All data used was collected from the General Social Survey. The variables in question were religion, age, education, and opinion on capital punishment, which were coded as the variables RELIG, AGE, EDUC, and CAPPUN, respectfully. The survey question regarding religion was phrased as “What is your religious preference? Is it Protestant, Catholic, Jewish, some other religion, or no religion?” with the possible answer choices of protestant, catholic, jewish, none, other, buddhism, hinduism, other easter religions, muslim/islam, orthodox christian, christian, native american, interdenominational, don't know, no answer, or skipped. All values for don’t know, no answer, and skipped were inputted as n/a, with a total of 437 n/a values. Despite the given answer choices in the code book, some answers to the religion question included “relig,” which does not make logical sense. Given the vast diversity of possible answer choices for christians, to draw clear conclusions the answers of catholic, protestant, inter-non denominational, christian, and orthodox-christian were grouped into a new “Christian” answer choice. The “relig” answers were grouped into “Other”, and given that the percentage of n/a values to total responses was less than 1%, they were dropped.\n",
        "Age data was given from a range of 19 to 89, with 647 n/a values which were dropped since they were less than 1% of the survey population. Ages were grouped into 18-30, 31-40, 41-50, 51-60, 61-70, 71-80, and 81-90 to make analysis more clear. Education data was given as a number from 0 to 20, with 0 meaning no formal schooling and 20 meaning 8 years of college education or more. There were 178 n/a values, which were dropped for the same reason.\n",
        " Education data was coerced to numeric data (integers) to allow for quantitative analysis. The question regarding opinion on capital punishment was phrased as “Do you favor or oppose the death penalty for persons convicted of murder” with answer choices of favor, oppose, don’t know, no answer, or skipped, with the three latter coded as n/a, allowing the response to be a binary variable. There were 204 n/a responses, which were dropped since they represented less than 1% of the survey population.\n",
        "After data wrangling, age, opinion on capital punishment, and religion were represented as categorical values while education was numerical. The decision to group age into categorical variables arose from difficulties with creating plots with age as numerical data. The age distribution of individuals was concentrated around a few specific ages, making it extremely difficult to determine where trends on capital punishment opinion lay. Grouping the data resolved this issue by allowing for a more uniform distribution across the age ranges and making KDE plots more clear.\n",
        "Another issue arose when grouping religions. The vast majority of participants identified as some type of Christian, and there were 5 values that all correspond to the overarching Christian faith. When these values were not grouped, correlations were difficult to determine due to the large amount of variables present and the wide distribution within christian denominations. Grouping the christian values solved this issue, but created another issue of over-dominance in the count plots. The count of christians out-numbered other religions by a large extent to the point where graphs comparing all religions were not as useful since the scale was too large to analyze the other religions. This was solved by separating religions into their own KDE plots which use probability densities and do not take into account the scale used for all religions.\n"
      ],
      "metadata": {
        "id": "WG-n18yXrigX"
      }
    },
    {
      "cell_type": "markdown",
      "source": [
        "##Does religion, age, or education correlate with people's opinions on capital punishment?##"
      ],
      "metadata": {
        "id": "W7taPH5QUEz5"
      }
    },
    {
      "cell_type": "markdown",
      "source": [
        "Importing the data and necessary libraries"
      ],
      "metadata": {
        "id": "4JFzErhDyfP7"
      }
    },
    {
      "cell_type": "code",
      "execution_count": 1,
      "metadata": {
        "id": "tfPZa5LhS41b"
      },
      "outputs": [],
      "source": [
        "import numpy as np\n",
        "import pandas as pd\n",
        "import seaborn as sns"
      ]
    },
    {
      "cell_type": "code",
      "source": [
        "df = pd.read_csv('selected_gss_data.csv',low_memory=False)"
      ],
      "metadata": {
        "id": "l4e5NHJ4TRvo",
        "outputId": "c4c6037c-bdee-45ef-cbac-f39930be103f",
        "colab": {
          "base_uri": "https://localhost:8080/",
          "height": 304
        }
      },
      "execution_count": 2,
      "outputs": [
        {
          "output_type": "error",
          "ename": "FileNotFoundError",
          "evalue": "[Errno 2] No such file or directory: 'selected_gss_data.csv'",
          "traceback": [
            "\u001b[0;31m---------------------------------------------------------------------------\u001b[0m",
            "\u001b[0;31mFileNotFoundError\u001b[0m                         Traceback (most recent call last)",
            "\u001b[0;32m<ipython-input-2-a73ea3413933>\u001b[0m in \u001b[0;36m<cell line: 1>\u001b[0;34m()\u001b[0m\n\u001b[0;32m----> 1\u001b[0;31m \u001b[0mdf\u001b[0m \u001b[0;34m=\u001b[0m \u001b[0mpd\u001b[0m\u001b[0;34m.\u001b[0m\u001b[0mread_csv\u001b[0m\u001b[0;34m(\u001b[0m\u001b[0;34m'selected_gss_data.csv'\u001b[0m\u001b[0;34m,\u001b[0m\u001b[0mlow_memory\u001b[0m\u001b[0;34m=\u001b[0m\u001b[0;32mFalse\u001b[0m\u001b[0;34m)\u001b[0m\u001b[0;34m\u001b[0m\u001b[0;34m\u001b[0m\u001b[0m\n\u001b[0m",
            "\u001b[0;32m/usr/local/lib/python3.10/dist-packages/pandas/util/_decorators.py\u001b[0m in \u001b[0;36mwrapper\u001b[0;34m(*args, **kwargs)\u001b[0m\n\u001b[1;32m    209\u001b[0m                 \u001b[0;32melse\u001b[0m\u001b[0;34m:\u001b[0m\u001b[0;34m\u001b[0m\u001b[0;34m\u001b[0m\u001b[0m\n\u001b[1;32m    210\u001b[0m                     \u001b[0mkwargs\u001b[0m\u001b[0;34m[\u001b[0m\u001b[0mnew_arg_name\u001b[0m\u001b[0;34m]\u001b[0m \u001b[0;34m=\u001b[0m \u001b[0mnew_arg_value\u001b[0m\u001b[0;34m\u001b[0m\u001b[0;34m\u001b[0m\u001b[0m\n\u001b[0;32m--> 211\u001b[0;31m             \u001b[0;32mreturn\u001b[0m \u001b[0mfunc\u001b[0m\u001b[0;34m(\u001b[0m\u001b[0;34m*\u001b[0m\u001b[0margs\u001b[0m\u001b[0;34m,\u001b[0m \u001b[0;34m**\u001b[0m\u001b[0mkwargs\u001b[0m\u001b[0;34m)\u001b[0m\u001b[0;34m\u001b[0m\u001b[0;34m\u001b[0m\u001b[0m\n\u001b[0m\u001b[1;32m    212\u001b[0m \u001b[0;34m\u001b[0m\u001b[0m\n\u001b[1;32m    213\u001b[0m         \u001b[0;32mreturn\u001b[0m \u001b[0mcast\u001b[0m\u001b[0;34m(\u001b[0m\u001b[0mF\u001b[0m\u001b[0;34m,\u001b[0m \u001b[0mwrapper\u001b[0m\u001b[0;34m)\u001b[0m\u001b[0;34m\u001b[0m\u001b[0;34m\u001b[0m\u001b[0m\n",
            "\u001b[0;32m/usr/local/lib/python3.10/dist-packages/pandas/util/_decorators.py\u001b[0m in \u001b[0;36mwrapper\u001b[0;34m(*args, **kwargs)\u001b[0m\n\u001b[1;32m    329\u001b[0m                     \u001b[0mstacklevel\u001b[0m\u001b[0;34m=\u001b[0m\u001b[0mfind_stack_level\u001b[0m\u001b[0;34m(\u001b[0m\u001b[0;34m)\u001b[0m\u001b[0;34m,\u001b[0m\u001b[0;34m\u001b[0m\u001b[0;34m\u001b[0m\u001b[0m\n\u001b[1;32m    330\u001b[0m                 )\n\u001b[0;32m--> 331\u001b[0;31m             \u001b[0;32mreturn\u001b[0m \u001b[0mfunc\u001b[0m\u001b[0;34m(\u001b[0m\u001b[0;34m*\u001b[0m\u001b[0margs\u001b[0m\u001b[0;34m,\u001b[0m \u001b[0;34m**\u001b[0m\u001b[0mkwargs\u001b[0m\u001b[0;34m)\u001b[0m\u001b[0;34m\u001b[0m\u001b[0;34m\u001b[0m\u001b[0m\n\u001b[0m\u001b[1;32m    332\u001b[0m \u001b[0;34m\u001b[0m\u001b[0m\n\u001b[1;32m    333\u001b[0m         \u001b[0;31m# error: \"Callable[[VarArg(Any), KwArg(Any)], Any]\" has no\u001b[0m\u001b[0;34m\u001b[0m\u001b[0;34m\u001b[0m\u001b[0m\n",
            "\u001b[0;32m/usr/local/lib/python3.10/dist-packages/pandas/io/parsers/readers.py\u001b[0m in \u001b[0;36mread_csv\u001b[0;34m(filepath_or_buffer, sep, delimiter, header, names, index_col, usecols, squeeze, prefix, mangle_dupe_cols, dtype, engine, converters, true_values, false_values, skipinitialspace, skiprows, skipfooter, nrows, na_values, keep_default_na, na_filter, verbose, skip_blank_lines, parse_dates, infer_datetime_format, keep_date_col, date_parser, dayfirst, cache_dates, iterator, chunksize, compression, thousands, decimal, lineterminator, quotechar, quoting, doublequote, escapechar, comment, encoding, encoding_errors, dialect, error_bad_lines, warn_bad_lines, on_bad_lines, delim_whitespace, low_memory, memory_map, float_precision, storage_options)\u001b[0m\n\u001b[1;32m    948\u001b[0m     \u001b[0mkwds\u001b[0m\u001b[0;34m.\u001b[0m\u001b[0mupdate\u001b[0m\u001b[0;34m(\u001b[0m\u001b[0mkwds_defaults\u001b[0m\u001b[0;34m)\u001b[0m\u001b[0;34m\u001b[0m\u001b[0;34m\u001b[0m\u001b[0m\n\u001b[1;32m    949\u001b[0m \u001b[0;34m\u001b[0m\u001b[0m\n\u001b[0;32m--> 950\u001b[0;31m     \u001b[0;32mreturn\u001b[0m \u001b[0m_read\u001b[0m\u001b[0;34m(\u001b[0m\u001b[0mfilepath_or_buffer\u001b[0m\u001b[0;34m,\u001b[0m \u001b[0mkwds\u001b[0m\u001b[0;34m)\u001b[0m\u001b[0;34m\u001b[0m\u001b[0;34m\u001b[0m\u001b[0m\n\u001b[0m\u001b[1;32m    951\u001b[0m \u001b[0;34m\u001b[0m\u001b[0m\n\u001b[1;32m    952\u001b[0m \u001b[0;34m\u001b[0m\u001b[0m\n",
            "\u001b[0;32m/usr/local/lib/python3.10/dist-packages/pandas/io/parsers/readers.py\u001b[0m in \u001b[0;36m_read\u001b[0;34m(filepath_or_buffer, kwds)\u001b[0m\n\u001b[1;32m    603\u001b[0m \u001b[0;34m\u001b[0m\u001b[0m\n\u001b[1;32m    604\u001b[0m     \u001b[0;31m# Create the parser.\u001b[0m\u001b[0;34m\u001b[0m\u001b[0;34m\u001b[0m\u001b[0m\n\u001b[0;32m--> 605\u001b[0;31m     \u001b[0mparser\u001b[0m \u001b[0;34m=\u001b[0m \u001b[0mTextFileReader\u001b[0m\u001b[0;34m(\u001b[0m\u001b[0mfilepath_or_buffer\u001b[0m\u001b[0;34m,\u001b[0m \u001b[0;34m**\u001b[0m\u001b[0mkwds\u001b[0m\u001b[0;34m)\u001b[0m\u001b[0;34m\u001b[0m\u001b[0;34m\u001b[0m\u001b[0m\n\u001b[0m\u001b[1;32m    606\u001b[0m \u001b[0;34m\u001b[0m\u001b[0m\n\u001b[1;32m    607\u001b[0m     \u001b[0;32mif\u001b[0m \u001b[0mchunksize\u001b[0m \u001b[0;32mor\u001b[0m \u001b[0miterator\u001b[0m\u001b[0;34m:\u001b[0m\u001b[0;34m\u001b[0m\u001b[0;34m\u001b[0m\u001b[0m\n",
            "\u001b[0;32m/usr/local/lib/python3.10/dist-packages/pandas/io/parsers/readers.py\u001b[0m in \u001b[0;36m__init__\u001b[0;34m(self, f, engine, **kwds)\u001b[0m\n\u001b[1;32m   1440\u001b[0m \u001b[0;34m\u001b[0m\u001b[0m\n\u001b[1;32m   1441\u001b[0m         \u001b[0mself\u001b[0m\u001b[0;34m.\u001b[0m\u001b[0mhandles\u001b[0m\u001b[0;34m:\u001b[0m \u001b[0mIOHandles\u001b[0m \u001b[0;34m|\u001b[0m \u001b[0;32mNone\u001b[0m \u001b[0;34m=\u001b[0m \u001b[0;32mNone\u001b[0m\u001b[0;34m\u001b[0m\u001b[0;34m\u001b[0m\u001b[0m\n\u001b[0;32m-> 1442\u001b[0;31m         \u001b[0mself\u001b[0m\u001b[0;34m.\u001b[0m\u001b[0m_engine\u001b[0m \u001b[0;34m=\u001b[0m \u001b[0mself\u001b[0m\u001b[0;34m.\u001b[0m\u001b[0m_make_engine\u001b[0m\u001b[0;34m(\u001b[0m\u001b[0mf\u001b[0m\u001b[0;34m,\u001b[0m \u001b[0mself\u001b[0m\u001b[0;34m.\u001b[0m\u001b[0mengine\u001b[0m\u001b[0;34m)\u001b[0m\u001b[0;34m\u001b[0m\u001b[0;34m\u001b[0m\u001b[0m\n\u001b[0m\u001b[1;32m   1443\u001b[0m \u001b[0;34m\u001b[0m\u001b[0m\n\u001b[1;32m   1444\u001b[0m     \u001b[0;32mdef\u001b[0m \u001b[0mclose\u001b[0m\u001b[0;34m(\u001b[0m\u001b[0mself\u001b[0m\u001b[0;34m)\u001b[0m \u001b[0;34m->\u001b[0m \u001b[0;32mNone\u001b[0m\u001b[0;34m:\u001b[0m\u001b[0;34m\u001b[0m\u001b[0;34m\u001b[0m\u001b[0m\n",
            "\u001b[0;32m/usr/local/lib/python3.10/dist-packages/pandas/io/parsers/readers.py\u001b[0m in \u001b[0;36m_make_engine\u001b[0;34m(self, f, engine)\u001b[0m\n\u001b[1;32m   1733\u001b[0m                 \u001b[0;32mif\u001b[0m \u001b[0;34m\"b\"\u001b[0m \u001b[0;32mnot\u001b[0m \u001b[0;32min\u001b[0m \u001b[0mmode\u001b[0m\u001b[0;34m:\u001b[0m\u001b[0;34m\u001b[0m\u001b[0;34m\u001b[0m\u001b[0m\n\u001b[1;32m   1734\u001b[0m                     \u001b[0mmode\u001b[0m \u001b[0;34m+=\u001b[0m \u001b[0;34m\"b\"\u001b[0m\u001b[0;34m\u001b[0m\u001b[0;34m\u001b[0m\u001b[0m\n\u001b[0;32m-> 1735\u001b[0;31m             self.handles = get_handle(\n\u001b[0m\u001b[1;32m   1736\u001b[0m                 \u001b[0mf\u001b[0m\u001b[0;34m,\u001b[0m\u001b[0;34m\u001b[0m\u001b[0;34m\u001b[0m\u001b[0m\n\u001b[1;32m   1737\u001b[0m                 \u001b[0mmode\u001b[0m\u001b[0;34m,\u001b[0m\u001b[0;34m\u001b[0m\u001b[0;34m\u001b[0m\u001b[0m\n",
            "\u001b[0;32m/usr/local/lib/python3.10/dist-packages/pandas/io/common.py\u001b[0m in \u001b[0;36mget_handle\u001b[0;34m(path_or_buf, mode, encoding, compression, memory_map, is_text, errors, storage_options)\u001b[0m\n\u001b[1;32m    854\u001b[0m         \u001b[0;32mif\u001b[0m \u001b[0mioargs\u001b[0m\u001b[0;34m.\u001b[0m\u001b[0mencoding\u001b[0m \u001b[0;32mand\u001b[0m \u001b[0;34m\"b\"\u001b[0m \u001b[0;32mnot\u001b[0m \u001b[0;32min\u001b[0m \u001b[0mioargs\u001b[0m\u001b[0;34m.\u001b[0m\u001b[0mmode\u001b[0m\u001b[0;34m:\u001b[0m\u001b[0;34m\u001b[0m\u001b[0;34m\u001b[0m\u001b[0m\n\u001b[1;32m    855\u001b[0m             \u001b[0;31m# Encoding\u001b[0m\u001b[0;34m\u001b[0m\u001b[0;34m\u001b[0m\u001b[0m\n\u001b[0;32m--> 856\u001b[0;31m             handle = open(\n\u001b[0m\u001b[1;32m    857\u001b[0m                 \u001b[0mhandle\u001b[0m\u001b[0;34m,\u001b[0m\u001b[0;34m\u001b[0m\u001b[0;34m\u001b[0m\u001b[0m\n\u001b[1;32m    858\u001b[0m                 \u001b[0mioargs\u001b[0m\u001b[0;34m.\u001b[0m\u001b[0mmode\u001b[0m\u001b[0;34m,\u001b[0m\u001b[0;34m\u001b[0m\u001b[0;34m\u001b[0m\u001b[0m\n",
            "\u001b[0;31mFileNotFoundError\u001b[0m: [Errno 2] No such file or directory: 'selected_gss_data.csv'"
          ]
        }
      ]
    },
    {
      "cell_type": "markdown",
      "source": [
        "Our selected variables to answer our question are relig, cappun, age, and educ which according to the GSS codebook have the following meanings.\n",
        "-RELIG: What is your religious preference?\n",
        "-CAPPUN:  Do you favor or oppose the death penalty for persons convicted of murder?\n",
        "-AGE: RESPONDENT'S AGE\n",
        "-EDUC: RESPONDENT'S EDUCATION"
      ],
      "metadata": {
        "id": "wgouyQnqzJad"
      }
    },
    {
      "cell_type": "code",
      "source": [
        "print(df.shape)\n",
        "print(df.dtypes)\n",
        "df.head()"
      ],
      "metadata": {
        "id": "AdZ4Fj94TXqX"
      },
      "execution_count": null,
      "outputs": []
    },
    {
      "cell_type": "markdown",
      "source": [
        "##Handling errors and missing data"
      ],
      "metadata": {
        "id": "aQ86y5_C3VCy"
      }
    },
    {
      "cell_type": "code",
      "source": [
        "cappun = df['cappun']\n",
        "cappun.unique()"
      ],
      "metadata": {
        "id": "zfUt1hvZVCMr"
      },
      "execution_count": null,
      "outputs": []
    },
    {
      "cell_type": "code",
      "source": [
        "relig = df['relig']\n",
        "relig.unique()"
      ],
      "metadata": {
        "id": "31JwKODr3j5c"
      },
      "execution_count": null,
      "outputs": []
    },
    {
      "cell_type": "code",
      "source": [
        "age = df['age']\n",
        "age.unique()"
      ],
      "metadata": {
        "id": "oC8ET2Vf30q0"
      },
      "execution_count": null,
      "outputs": []
    },
    {
      "cell_type": "code",
      "source": [
        "educ = df['educ']\n",
        "educ.unique()"
      ],
      "metadata": {
        "id": "ckzSirqz4FCt"
      },
      "execution_count": null,
      "outputs": []
    },
    {
      "cell_type": "markdown",
      "source": [
        "It looks like there's quite a few NaNs as well as some values \"cappun\". \"cappun\" as an entry doesn't make sense and since there is only 2 we will drop the rows with that entry. Same for age, religion, and education we will drop any entries that == the name of the variable."
      ],
      "metadata": {
        "id": "C5Xa1lHMVk9j"
      }
    },
    {
      "cell_type": "code",
      "source": [
        "df = df.drop(df[df['cappun'] == 'cappun'].index)\n",
        "df = df.drop(df[df['age'] == 'age'].index)\n",
        "df = df.drop(df[df['relig'] == 'relig'].index)\n",
        "df = df.drop(df[df['educ'] == 'educ'].index)"
      ],
      "metadata": {
        "id": "kisc3q52Xk-X"
      },
      "execution_count": null,
      "outputs": []
    },
    {
      "cell_type": "code",
      "source": [
        "df['relig'].isna().sum() #count the nans in the religion column"
      ],
      "metadata": {
        "id": "4X204zdE8dgZ"
      },
      "execution_count": null,
      "outputs": []
    },
    {
      "cell_type": "markdown",
      "source": [
        "There are 437 NaN values in the religion category. This is less than 1% of the observations, so we can drop these values."
      ],
      "metadata": {
        "id": "SgtK6rCc8hZN"
      }
    },
    {
      "cell_type": "code",
      "source": [
        "df = df.dropna(subset=[\"relig\"])\n",
        "df['relig'].isna().sum() # now we can see that there are no NaN values for religion"
      ],
      "metadata": {
        "id": "IsNZUodv8ii3"
      },
      "execution_count": null,
      "outputs": []
    },
    {
      "cell_type": "code",
      "source": [
        "education = df['educ']\n",
        "education.unique()"
      ],
      "metadata": {
        "id": "dGIud6yN9AsT"
      },
      "execution_count": null,
      "outputs": []
    },
    {
      "cell_type": "code",
      "source": [
        "df['educ'].isna().sum() #count the nans in the educ column"
      ],
      "metadata": {
        "id": "fJSjUOQK840b"
      },
      "execution_count": null,
      "outputs": []
    },
    {
      "cell_type": "code",
      "source": [
        "df = df.dropna(subset=[\"educ\"])\n",
        "df['educ'].isna().sum() # now we can see that there are no NaN values for educ"
      ],
      "metadata": {
        "id": "eDbisTdd9ePb"
      },
      "execution_count": null,
      "outputs": []
    },
    {
      "cell_type": "code",
      "source": [
        "df['age'].isna().sum() #count the nans in the age column"
      ],
      "metadata": {
        "id": "sEaoXgCn842t"
      },
      "execution_count": null,
      "outputs": []
    },
    {
      "cell_type": "code",
      "source": [
        "df = df.dropna(subset=[\"age\"])\n",
        "df['age'].isna().sum() # now we can see that there are no NaN values for age"
      ],
      "metadata": {
        "id": "q-2Sdakr9hlI"
      },
      "execution_count": null,
      "outputs": []
    },
    {
      "cell_type": "code",
      "source": [
        "# grouping age groups\n",
        "bins = [18,30, 40, 50, 60, 70, 80, 90]\n",
        "labels = ['18-30', '31-40', '41-50', '51-60', '61-70', '71-80', '81-90']\n",
        "\n",
        "# Try to convert 'age' to integers, handle errors by setting to NaN\n",
        "df['age'] = pd.to_numeric(df['age'], errors='coerce')\n",
        "\n",
        "# Drop rows with NaN values in 'age' column\n",
        "df = df.dropna(subset=['age'])\n",
        "\n",
        "# Apply age binning\n",
        "df['difage'] = pd.cut(df['age'], bins=bins, labels=labels, right=False)\n",
        "\n",
        "print(df['difage'].value_counts())"
      ],
      "metadata": {
        "id": "wnoOQ8pZ9qVg"
      },
      "execution_count": null,
      "outputs": []
    },
    {
      "cell_type": "code",
      "source": [
        "# Try to convert 'educ' to integers, handle errors by setting to NaN\n",
        "df['educ'] = pd.to_numeric(df['educ'], errors='coerce')\n",
        "\n",
        "# Drop rows with NaN values in 'age' column\n",
        "df = df.dropna(subset=['educ'])\n",
        "\n",
        "print(df['educ'].value_counts())"
      ],
      "metadata": {
        "id": "4YwswSo99t0n"
      },
      "execution_count": null,
      "outputs": []
    },
    {
      "cell_type": "markdown",
      "source": [
        "##Cleaning Categorical Data"
      ],
      "metadata": {
        "id": "hB5GoosL7lrc"
      }
    },
    {
      "cell_type": "markdown",
      "source": [
        "We will want to group together some of the smaller religions into one to get a better understanding of how opinions differ genrally across chrisitan vs non christian religions."
      ],
      "metadata": {
        "id": "-yJSmKKS7wbE"
      }
    },
    {
      "cell_type": "code",
      "source": [
        "#cleaning data - combining religion variables\n",
        "difrelig = df['relig'] # Create a temporary vector of values for the relig variable to play with\n",
        "\n",
        "difrelig = difrelig.replace(['catholic', 'protestant','inter-nondenominational','christian', 'orthodox-christian'],'christian') # All christian values\n",
        "\n",
        "difrelig = difrelig.replace(['other', 'relig', 'other eastern religions'], 'Other Religions')\n",
        "\n",
        "df['difrelig'] = difrelig # create a new column 'difrelif' variable with the grouped version\n",
        "df['difrelig'].value_counts()"
      ],
      "metadata": {
        "id": "de5WnkJVb_-p"
      },
      "execution_count": null,
      "outputs": []
    },
    {
      "cell_type": "markdown",
      "source": [
        "## Results"
      ],
      "metadata": {
        "id": "DwDoUXr-EaCn"
      }
    },
    {
      "cell_type": "markdown",
      "source": [
        "\n",
        "In the results section of our exploratory paper investigating the influence of religion, age, and education on people’s stance towards capital punishment we observed many trends. The prevailing inclination across various groups is a favorable view towards capital punishment. When cross tabulating the data, it looks like buddhists, hinduists, inter-nondenominational, muslim, and native americans slightly favor the death penalty. Catholics, Christians, Jewish people, non-religious people, orthodox christians, protestants, and others strongly favor the death penalty. No single religious group opposes it more than they favor it.\n"
      ],
      "metadata": {
        "id": "7C4gPsgXgvlV"
      }
    },
    {
      "cell_type": "code",
      "source": [
        "print(pd.crosstab(df['cappun'],df['relig']),'\\n')"
      ],
      "metadata": {
        "id": "aZQrV17KXWIZ"
      },
      "execution_count": null,
      "outputs": []
    },
    {
      "cell_type": "code",
      "source": [
        "print(pd.crosstab(df['cappun'],df['difrelig']),'\\n')"
      ],
      "metadata": {
        "id": "hooZl9ien4kB"
      },
      "execution_count": null,
      "outputs": []
    },
    {
      "cell_type": "markdown",
      "source": [
        "Some other important basic statistics needed to understand the study were that the most frequent education is 12 years which is a highschool level education, and a majority of the study was conducted on Christians between 18-50 years old. When plotting a simple bar chart with count on the y-axis and religion on the x-axis, we observed that a large portion of the people surveyed were protestant, with the second largest group being catholic, and the third largest group falling under no religion."
      ],
      "metadata": {
        "id": "gsgNDqyrhuB6"
      }
    },
    {
      "cell_type": "code",
      "source": [
        "df['educ'].describe()"
      ],
      "metadata": {
        "id": "BfviQNkv97Xs"
      },
      "execution_count": null,
      "outputs": []
    },
    {
      "cell_type": "code",
      "source": [
        "my_plot = sns.countplot(df, x=\"relig\")\n",
        "my_plot.set_xticklabels(my_plot.get_xticklabels(), rotation=90)"
      ],
      "metadata": {
        "id": "nax7r342ZVFo"
      },
      "execution_count": null,
      "outputs": []
    },
    {
      "cell_type": "markdown",
      "source": [
        "A simple Kernel Density Estimation plot shows that generally more people favor capital punishment with a higher density in the graph. But as people age the difference in opinion on capital punishment lessens."
      ],
      "metadata": {
        "id": "Cd2ViSbNiNVk"
      }
    },
    {
      "cell_type": "code",
      "source": [
        "sns.kdeplot(data=df,x='age',hue='cappun')"
      ],
      "metadata": {
        "id": "CnxSt4ybqWpy"
      },
      "execution_count": null,
      "outputs": []
    },
    {
      "cell_type": "markdown",
      "source": [
        "As for age, 31-40 year olds were interviewed the most, followed by 18-30 year olds. 81-90 year olds were interviewed the least. This distribution makes sense as it follows the general population trend for age. Plotting ages into different bins against their count, it seems 31-40 year olds favor capital punishment the most with the highest frequency being shown in the chart."
      ],
      "metadata": {
        "id": "22RWdigGiZkf"
      }
    },
    {
      "cell_type": "code",
      "source": [
        "my_plot = sns.countplot(df, x=\"difage\")\n",
        "my_plot.set_xticklabels(my_plot.get_xticklabels(), rotation=90)"
      ],
      "metadata": {
        "id": "yBiaht-m-C2T"
      },
      "execution_count": null,
      "outputs": []
    },
    {
      "cell_type": "code",
      "source": [
        "my_plot = sns.countplot(df, x=\"difage\", hue=\"cappun\")\n",
        "my_plot.set_xticklabels(my_plot.get_xticklabels(), rotation=90)"
      ],
      "metadata": {
        "id": "J-n7Uzaw-HI0"
      },
      "execution_count": null,
      "outputs": []
    },
    {
      "cell_type": "markdown",
      "source": [
        "When looking more specifically into trends for those who oppose capital punishment, we noticed older individuals who are not affiliated with any religious beliefs and possess higher education levels exhibit the highest opposition rates to capital punishment. When looking more into religions, it seems that Christians, irrespective of their educational background, tend to predominantly favor the death penalty."
      ],
      "metadata": {
        "id": "Jaukwmpai3Rn"
      }
    },
    {
      "cell_type": "code",
      "source": [
        "print(pd.crosstab(df['difage'],df['relig']),'\\n')"
      ],
      "metadata": {
        "id": "903BY9Wh9zwr"
      },
      "execution_count": null,
      "outputs": []
    },
    {
      "cell_type": "code",
      "source": [
        "print(pd.crosstab(df['educ'],df['relig']),'\\n')"
      ],
      "metadata": {
        "id": "HZ964XiB93ws"
      },
      "execution_count": null,
      "outputs": []
    },
    {
      "cell_type": "code",
      "source": [
        "my_plot = sns.countplot(df, x=\"difrelig\", hue=\"cappun\")\n",
        "my_plot.set_xticklabels(my_plot.get_xticklabels(), rotation=90)"
      ],
      "metadata": {
        "id": "H_IfqHzna-dn"
      },
      "execution_count": null,
      "outputs": []
    },
    {
      "cell_type": "code",
      "source": [
        "rslt_df = df[df['difrelig'] == 'christian']\n",
        "other_df = df[df['difrelig'] != 'christian']\n",
        "jewish = df[df['difrelig'] == 'jewish']\n",
        "hindu = df[df['relig'] == 'hinduism']"
      ],
      "metadata": {
        "id": "jD4qPQNMiw8x"
      },
      "execution_count": null,
      "outputs": []
    },
    {
      "cell_type": "markdown",
      "source": [
        "KDE Christians opinion by education"
      ],
      "metadata": {
        "id": "iGYW1lqDj9M9"
      }
    },
    {
      "cell_type": "code",
      "source": [
        "sns.kdeplot(data=rslt_df, x=\"educ\", hue=\"cappun\") # Grouped by ccappun"
      ],
      "metadata": {
        "id": "ntEiK-Dki9SZ"
      },
      "execution_count": null,
      "outputs": []
    },
    {
      "cell_type": "markdown",
      "source": [
        "On the other hand, individuals practicing Hinduism, particularly those in their forties, exhibit a higher tendency to oppose capital punishment compared to those who favor it. Furthermore, we noticed that a positive correlation exists between higher education levels and increased opposition to capital punishment."
      ],
      "metadata": {
        "id": "4nhOLmI8kAuu"
      }
    },
    {
      "cell_type": "code",
      "source": [
        "sns.kdeplot(data=hindu, x=\"educ\", hue=\"cappun\") # Grouped by ccappun"
      ],
      "metadata": {
        "id": "kZu6m73PmrWp"
      },
      "execution_count": null,
      "outputs": []
    },
    {
      "cell_type": "code",
      "source": [
        "sns.kdeplot(data=df, x=\"educ\", hue=\"cappun\") # Grouped by ccappun"
      ],
      "metadata": {
        "id": "8ZLUDYfp-Tm1"
      },
      "execution_count": null,
      "outputs": []
    },
    {
      "cell_type": "markdown",
      "source": [
        "It is important for us to include Kernel Density Estimation plots to help illustrate the distribution of attitudes towards capital punishment within specific subgroups, making it easier to discern patterns and trends with a more accurate representation of the data.  The following KDE plot reveals that individuals with advanced education levels who do not identify as Christian tend to exhibit a stronger inclination towards opposing capital punishment compared to supporting it.\n",
        "On the flip side, among Christians of various age groups, a consistent and low opposition rate is observed through the following plot, indicating a persistent preference for the death penalty."
      ],
      "metadata": {
        "id": "eJtHByUak8es"
      }
    },
    {
      "cell_type": "markdown",
      "source": [
        "KDE Non Christians opinion by education"
      ],
      "metadata": {
        "id": "hoy3QW-Rjyrx"
      }
    },
    {
      "cell_type": "code",
      "source": [
        "sns.kdeplot(data=other_df, x=\"educ\", hue=\"cappun\") # Grouped by ccappun"
      ],
      "metadata": {
        "id": "YEK9xeKTjJgJ"
      },
      "execution_count": null,
      "outputs": []
    },
    {
      "cell_type": "markdown",
      "source": [
        "KDE Christians opinion by age"
      ],
      "metadata": {
        "id": "sfXHRGyglpb_"
      }
    },
    {
      "cell_type": "code",
      "source": [
        "sns.kdeplot(data=rslt_df, x=\"age\", hue=\"cappun\") # Grouped by ccappun"
      ],
      "metadata": {
        "id": "2mz9j0Ezlptx"
      },
      "execution_count": null,
      "outputs": []
    },
    {
      "cell_type": "markdown",
      "source": [
        "When exploring central tendencies in the age and education variables, we noticed that the average age of both those who favor and oppose capital punishment is around 46 years old. This suggests that a significant portion of the study’s data falls within the middle range of ages, indicating that the perspectives captured are representative of a diverse yet centered age demographic. Similarly, the average education level for both individuals who favor and those who oppose capital punishment is around 13 years, meaning they just graduated high school and are in their first year of a university education. This finding underscores that the study’s data collection is concentrated around a moderate educational attainment level.\n",
        " Additionally, the similarity in average education levels for both groups suggests a balanced representation, capturing a substantial portion of individuals with a moderate duration of formal education. The concentration of data in the middle range of age and education has implications for the generalizability of the study’s findings. While the results provide valuable insights into the attitudes of the individuals with average age and education levels, caution should be exercised when extrapolating these findings to extreme age or education brackets. On the other hand, understanding that the study’s data is centered around average age and education levels enhances its relevance to public opinion dynamics. The study captures the sentiments of individuals who represent a considerable segment of the population, making the findings pertinent to discussions on capital punishment that resonate with a broad cross-section of society."
      ],
      "metadata": {
        "id": "Hzullb1HmTjU"
      }
    },
    {
      "cell_type": "code",
      "source": [
        "result1 = df.groupby(['cappun','difrelig']).mean()\n",
        "print(result1)"
      ],
      "metadata": {
        "id": "-ZUwXjzYJ8QZ"
      },
      "execution_count": null,
      "outputs": []
    },
    {
      "cell_type": "code",
      "source": [
        "result = df.groupby('cappun').mean()\n",
        "print(result)"
      ],
      "metadata": {
        "id": "0VklaUYUJsk0"
      },
      "execution_count": null,
      "outputs": []
    },
    {
      "cell_type": "code",
      "source": [
        "my_plot = sns.countplot(df, x=\"educ\", hue=\"cappun\")\n",
        "my_plot.set_xticklabels(my_plot.get_xticklabels(), rotation=90)"
      ],
      "metadata": {
        "id": "x7F8nykQ-PxZ"
      },
      "execution_count": null,
      "outputs": []
    },
    {
      "cell_type": "markdown",
      "source": [
        "The previous findings shed light on the nuanced relationships between religious beliefs, age, education, and attitudes towards capital punishment, providing valuable insights into the complexities of public opinion on this issue.\n"
      ],
      "metadata": {
        "id": "fkNsKSe5mxR2"
      }
    },
    {
      "cell_type": "markdown",
      "source": [
        "##Conclusion\n",
        "Using data from the General Social Survey we analyzed patterns among the following variables: age, education, religion, and opinion on capital punishment. We found that generally, all religious groups have a majority opinion that favors the death penalty. Especially among people who identify as christians, there is a strong favoring opinion. It was only when analyzing specific sub-groups such as highly educated non-christians or middle to older aged hindus that we were able to identify groups where there was a majority opposing capital punishment.\n",
        "Our data preparation methods cleaned the data while maintaining the integrity of the information, dropped answers tended to make up approximately 1% of all responses. Decisions to group variables and bin information were made in the interest of analyzing the data meaningfully, and not in an effort to misconstrue the information.\n",
        "There is, however, a benefit to further analysis with more information. The data we used was limited in certain regards; there were few entries from religious groups such as hindus, buddhists, and native americans. A more robust analysis would require a greater number of data points from these groups to produce a more reliable sample.\n",
        "Further research could be done to explore each religion more in depth, analyzing sub-groups or denominations with each religion. For the purpose of our analysis we generalized Christians but there may be different trends across different Christian sects. Additionally, Islam, Hinduism, and Native Americans have different sects that were not even identified in this particular survey. More information with more specific questions would allow for a more in depth understanding of how religion, age, and education affect people’s opinion on capital punishment.\n"
      ],
      "metadata": {
        "id": "G4NqxHyOnXWW"
      }
    },
    {
      "cell_type": "markdown",
      "source": [
        "##Appendices"
      ],
      "metadata": {
        "id": "ZPaZt47Pm1Kw"
      }
    },
    {
      "cell_type": "code",
      "source": [
        "rslt_df = df[df['educ'] == 'christian']\n",
        "other_df = df[df['difrelig'] != 'christian']"
      ],
      "metadata": {
        "id": "2mEckSFPl3Qh"
      },
      "execution_count": null,
      "outputs": []
    },
    {
      "cell_type": "code",
      "source": [
        "sns.kdeplot(data=jewish, x=\"educ\", hue=\"cappun\") # Grouped by ccappun"
      ],
      "metadata": {
        "id": "Tr0LwuiDmP1z"
      },
      "execution_count": null,
      "outputs": []
    },
    {
      "cell_type": "code",
      "source": [
        "sns.kdeplot(data=hindu, x=\"age\", hue=\"cappun\") # Grouped by ccappun"
      ],
      "metadata": {
        "id": "diO6bfqzm0Lw"
      },
      "execution_count": null,
      "outputs": []
    }
  ]
}